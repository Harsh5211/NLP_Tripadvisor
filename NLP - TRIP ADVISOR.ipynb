{
 "cells": [
  {
   "cell_type": "code",
   "execution_count": 17,
   "id": "36e9568b",
   "metadata": {},
   "outputs": [],
   "source": [
    "import pandas as pd\n",
    "import numpy as np"
   ]
  },
  {
   "cell_type": "code",
   "execution_count": 18,
   "id": "d0415663",
   "metadata": {},
   "outputs": [],
   "source": [
    "ta = pd.read_csv(r\"C:\\Users\\HARSH\\Desktop\\python dataset\\Trip_advisor_review.csv\")"
   ]
  },
  {
   "cell_type": "code",
   "execution_count": 19,
   "id": "ccfd3af7",
   "metadata": {},
   "outputs": [
    {
     "data": {
      "text/plain": [
       "(20491, 2)"
      ]
     },
     "execution_count": 19,
     "metadata": {},
     "output_type": "execute_result"
    }
   ],
   "source": [
    "ta.shape"
   ]
  },
  {
   "cell_type": "code",
   "execution_count": 20,
   "id": "6036c449",
   "metadata": {},
   "outputs": [
    {
     "data": {
      "text/html": [
       "<div>\n",
       "<style scoped>\n",
       "    .dataframe tbody tr th:only-of-type {\n",
       "        vertical-align: middle;\n",
       "    }\n",
       "\n",
       "    .dataframe tbody tr th {\n",
       "        vertical-align: top;\n",
       "    }\n",
       "\n",
       "    .dataframe thead th {\n",
       "        text-align: right;\n",
       "    }\n",
       "</style>\n",
       "<table border=\"1\" class=\"dataframe\">\n",
       "  <thead>\n",
       "    <tr style=\"text-align: right;\">\n",
       "      <th></th>\n",
       "      <th>Review</th>\n",
       "      <th>Rating</th>\n",
       "    </tr>\n",
       "  </thead>\n",
       "  <tbody>\n",
       "    <tr>\n",
       "      <th>0</th>\n",
       "      <td>nice hotel expensive parking got good deal sta...</td>\n",
       "      <td>4</td>\n",
       "    </tr>\n",
       "    <tr>\n",
       "      <th>1</th>\n",
       "      <td>ok nothing special charge diamond member hilto...</td>\n",
       "      <td>2</td>\n",
       "    </tr>\n",
       "    <tr>\n",
       "      <th>2</th>\n",
       "      <td>nice rooms not 4* experience hotel monaco seat...</td>\n",
       "      <td>3</td>\n",
       "    </tr>\n",
       "    <tr>\n",
       "      <th>3</th>\n",
       "      <td>unique, great stay, wonderful time hotel monac...</td>\n",
       "      <td>5</td>\n",
       "    </tr>\n",
       "    <tr>\n",
       "      <th>4</th>\n",
       "      <td>great stay great stay, went seahawk game aweso...</td>\n",
       "      <td>5</td>\n",
       "    </tr>\n",
       "  </tbody>\n",
       "</table>\n",
       "</div>"
      ],
      "text/plain": [
       "                                              Review  Rating\n",
       "0  nice hotel expensive parking got good deal sta...       4\n",
       "1  ok nothing special charge diamond member hilto...       2\n",
       "2  nice rooms not 4* experience hotel monaco seat...       3\n",
       "3  unique, great stay, wonderful time hotel monac...       5\n",
       "4  great stay great stay, went seahawk game aweso...       5"
      ]
     },
     "execution_count": 20,
     "metadata": {},
     "output_type": "execute_result"
    }
   ],
   "source": [
    "ta.head()"
   ]
  },
  {
   "cell_type": "code",
   "execution_count": 21,
   "id": "d82bd5b0",
   "metadata": {},
   "outputs": [
    {
     "data": {
      "text/plain": [
       "Series([], dtype: int64)"
      ]
     },
     "execution_count": 21,
     "metadata": {},
     "output_type": "execute_result"
    }
   ],
   "source": [
    "ta.isnull().sum()[ta.isnull().sum()>0]"
   ]
  },
  {
   "cell_type": "code",
   "execution_count": 22,
   "id": "5ddb4975",
   "metadata": {},
   "outputs": [],
   "source": [
    "ta = ta.rename(columns = ({\"Rating\" : \"Y\" , \"Review\" : \"X\"}))"
   ]
  },
  {
   "cell_type": "code",
   "execution_count": 23,
   "id": "9c7bdd22",
   "metadata": {},
   "outputs": [
    {
     "data": {
      "text/html": [
       "<div>\n",
       "<style scoped>\n",
       "    .dataframe tbody tr th:only-of-type {\n",
       "        vertical-align: middle;\n",
       "    }\n",
       "\n",
       "    .dataframe tbody tr th {\n",
       "        vertical-align: top;\n",
       "    }\n",
       "\n",
       "    .dataframe thead th {\n",
       "        text-align: right;\n",
       "    }\n",
       "</style>\n",
       "<table border=\"1\" class=\"dataframe\">\n",
       "  <thead>\n",
       "    <tr style=\"text-align: right;\">\n",
       "      <th></th>\n",
       "      <th>X</th>\n",
       "      <th>Y</th>\n",
       "    </tr>\n",
       "  </thead>\n",
       "  <tbody>\n",
       "    <tr>\n",
       "      <th>0</th>\n",
       "      <td>nice hotel expensive parking got good deal sta...</td>\n",
       "      <td>4</td>\n",
       "    </tr>\n",
       "    <tr>\n",
       "      <th>1</th>\n",
       "      <td>ok nothing special charge diamond member hilto...</td>\n",
       "      <td>2</td>\n",
       "    </tr>\n",
       "    <tr>\n",
       "      <th>2</th>\n",
       "      <td>nice rooms not 4* experience hotel monaco seat...</td>\n",
       "      <td>3</td>\n",
       "    </tr>\n",
       "    <tr>\n",
       "      <th>3</th>\n",
       "      <td>unique, great stay, wonderful time hotel monac...</td>\n",
       "      <td>5</td>\n",
       "    </tr>\n",
       "    <tr>\n",
       "      <th>4</th>\n",
       "      <td>great stay great stay, went seahawk game aweso...</td>\n",
       "      <td>5</td>\n",
       "    </tr>\n",
       "  </tbody>\n",
       "</table>\n",
       "</div>"
      ],
      "text/plain": [
       "                                                   X  Y\n",
       "0  nice hotel expensive parking got good deal sta...  4\n",
       "1  ok nothing special charge diamond member hilto...  2\n",
       "2  nice rooms not 4* experience hotel monaco seat...  3\n",
       "3  unique, great stay, wonderful time hotel monac...  5\n",
       "4  great stay great stay, went seahawk game aweso...  5"
      ]
     },
     "execution_count": 23,
     "metadata": {},
     "output_type": "execute_result"
    }
   ],
   "source": [
    "ta.head()"
   ]
  },
  {
   "cell_type": "code",
   "execution_count": 24,
   "id": "9b2dcd45",
   "metadata": {},
   "outputs": [
    {
     "data": {
      "text/plain": [
       "5    9054\n",
       "4    6039\n",
       "3    2184\n",
       "2    1793\n",
       "1    1421\n",
       "Name: Y, dtype: int64"
      ]
     },
     "execution_count": 24,
     "metadata": {},
     "output_type": "execute_result"
    }
   ],
   "source": [
    "ta.Y.value_counts()"
   ]
  },
  {
   "cell_type": "code",
   "execution_count": 25,
   "id": "f9424de6",
   "metadata": {},
   "outputs": [
    {
     "data": {
      "text/html": [
       "<div>\n",
       "<style scoped>\n",
       "    .dataframe tbody tr th:only-of-type {\n",
       "        vertical-align: middle;\n",
       "    }\n",
       "\n",
       "    .dataframe tbody tr th {\n",
       "        vertical-align: top;\n",
       "    }\n",
       "\n",
       "    .dataframe thead th {\n",
       "        text-align: right;\n",
       "    }\n",
       "</style>\n",
       "<table border=\"1\" class=\"dataframe\">\n",
       "  <thead>\n",
       "    <tr style=\"text-align: right;\">\n",
       "      <th></th>\n",
       "      <th>X</th>\n",
       "      <th>Y</th>\n",
       "    </tr>\n",
       "  </thead>\n",
       "  <tbody>\n",
       "    <tr>\n",
       "      <th>0</th>\n",
       "      <td>nice hotel expensive parking got good deal sta...</td>\n",
       "      <td>4</td>\n",
       "    </tr>\n",
       "    <tr>\n",
       "      <th>1</th>\n",
       "      <td>ok nothing special charge diamond member hilto...</td>\n",
       "      <td>2</td>\n",
       "    </tr>\n",
       "    <tr>\n",
       "      <th>2</th>\n",
       "      <td>nice rooms not 4* experience hotel monaco seat...</td>\n",
       "      <td>3</td>\n",
       "    </tr>\n",
       "    <tr>\n",
       "      <th>3</th>\n",
       "      <td>unique, great stay, wonderful time hotel monac...</td>\n",
       "      <td>5</td>\n",
       "    </tr>\n",
       "    <tr>\n",
       "      <th>4</th>\n",
       "      <td>great stay great stay, went seahawk game aweso...</td>\n",
       "      <td>5</td>\n",
       "    </tr>\n",
       "    <tr>\n",
       "      <th>...</th>\n",
       "      <td>...</td>\n",
       "      <td>...</td>\n",
       "    </tr>\n",
       "    <tr>\n",
       "      <th>20486</th>\n",
       "      <td>best kept secret 3rd time staying charm, not 5...</td>\n",
       "      <td>5</td>\n",
       "    </tr>\n",
       "    <tr>\n",
       "      <th>20487</th>\n",
       "      <td>great location price view hotel great quick pl...</td>\n",
       "      <td>4</td>\n",
       "    </tr>\n",
       "    <tr>\n",
       "      <th>20488</th>\n",
       "      <td>ok just looks nice modern outside, desk staff ...</td>\n",
       "      <td>2</td>\n",
       "    </tr>\n",
       "    <tr>\n",
       "      <th>20489</th>\n",
       "      <td>hotel theft ruined vacation hotel opened sept ...</td>\n",
       "      <td>1</td>\n",
       "    </tr>\n",
       "    <tr>\n",
       "      <th>20490</th>\n",
       "      <td>people talking, ca n't believe excellent ratin...</td>\n",
       "      <td>2</td>\n",
       "    </tr>\n",
       "  </tbody>\n",
       "</table>\n",
       "<p>20491 rows × 2 columns</p>\n",
       "</div>"
      ],
      "text/plain": [
       "                                                       X  Y\n",
       "0      nice hotel expensive parking got good deal sta...  4\n",
       "1      ok nothing special charge diamond member hilto...  2\n",
       "2      nice rooms not 4* experience hotel monaco seat...  3\n",
       "3      unique, great stay, wonderful time hotel monac...  5\n",
       "4      great stay great stay, went seahawk game aweso...  5\n",
       "...                                                  ... ..\n",
       "20486  best kept secret 3rd time staying charm, not 5...  5\n",
       "20487  great location price view hotel great quick pl...  4\n",
       "20488  ok just looks nice modern outside, desk staff ...  2\n",
       "20489  hotel theft ruined vacation hotel opened sept ...  1\n",
       "20490  people talking, ca n't believe excellent ratin...  2\n",
       "\n",
       "[20491 rows x 2 columns]"
      ]
     },
     "execution_count": 25,
     "metadata": {},
     "output_type": "execute_result"
    }
   ],
   "source": [
    "ta.X = ta.X.str.lower() # Mandtory\n",
    "ta"
   ]
  },
  {
   "cell_type": "code",
   "execution_count": 26,
   "id": "f5bd0dd6",
   "metadata": {},
   "outputs": [],
   "source": [
    "import nltk # nltk - natural language toolkit"
   ]
  },
  {
   "cell_type": "code",
   "execution_count": 27,
   "id": "3a9d4e4c",
   "metadata": {},
   "outputs": [],
   "source": [
    "from nltk.corpus import stopwords"
   ]
  },
  {
   "cell_type": "code",
   "execution_count": 28,
   "id": "d225f9e0",
   "metadata": {},
   "outputs": [
    {
     "data": {
      "text/plain": [
       "'!\"#$%&\\'()*+,-./:;<=>?@[\\\\]^_`{|}~'"
      ]
     },
     "execution_count": 28,
     "metadata": {},
     "output_type": "execute_result"
    }
   ],
   "source": [
    "import string\n",
    "string.punctuation"
   ]
  },
  {
   "cell_type": "code",
   "execution_count": 72,
   "id": "81e0ff24",
   "metadata": {},
   "outputs": [
    {
     "data": {
      "text/plain": [
       "5    9054\n",
       "4    6039\n",
       "3    2184\n",
       "2    1793\n",
       "1    1421\n",
       "Name: Y, dtype: int64"
      ]
     },
     "execution_count": 72,
     "metadata": {},
     "output_type": "execute_result"
    }
   ],
   "source": [
    "ta.Y.value_counts()"
   ]
  },
  {
   "cell_type": "code",
   "execution_count": 73,
   "id": "670b79f7",
   "metadata": {},
   "outputs": [
    {
     "data": {
      "text/plain": [
       "3    15093\n",
       "1     3214\n",
       "2     2184\n",
       "Name: Y, dtype: int64"
      ]
     },
     "execution_count": 73,
     "metadata": {},
     "output_type": "execute_result"
    }
   ],
   "source": [
    "# ta.Y.replace({2:1,3:2,4:3,5:3},inplace=True)\n",
    "# ta.Y.value_counts()"
   ]
  },
  {
   "cell_type": "code",
   "execution_count": 117,
   "id": "cd377426",
   "metadata": {},
   "outputs": [
    {
     "data": {
      "text/plain": [
       "2    15093\n",
       "1     5398\n",
       "Name: Y, dtype: int64"
      ]
     },
     "execution_count": 117,
     "metadata": {},
     "output_type": "execute_result"
    }
   ],
   "source": [
    "ta.Y.replace({2:1,3:2,4:2,5:2},inplace=True)\n",
    "ta.Y.value_counts()"
   ]
  },
  {
   "cell_type": "code",
   "execution_count": null,
   "id": "2d7899f2",
   "metadata": {},
   "outputs": [],
   "source": []
  },
  {
   "cell_type": "code",
   "execution_count": null,
   "id": "e01029b9",
   "metadata": {},
   "outputs": [],
   "source": []
  },
  {
   "cell_type": "code",
   "execution_count": 118,
   "id": "740bbde7",
   "metadata": {},
   "outputs": [],
   "source": [
    "l1 = stopwords.words(\"english\")"
   ]
  },
  {
   "cell_type": "code",
   "execution_count": 119,
   "id": "545b08b3",
   "metadata": {},
   "outputs": [],
   "source": [
    "def text_process(mess):            ### creating a function\n",
    "\n",
    "    \"\"\"                                                        ## a docstring\n",
    "\n",
    "    1. remove the punctuation\n",
    "\n",
    "    2. remove the stopwords\n",
    "\n",
    "    3. return the list of clean textwords\n",
    "\n",
    "    \n",
    "\n",
    "    \"\"\"\n",
    "\n",
    "    nopunc = [char for char in mess if char not in string.punctuation]\n",
    "\n",
    "    nopunc = \"\".join(nopunc)\n",
    "\n",
    "    \n",
    "\n",
    "    return [ word for word in nopunc.split() if word not in l1]"
   ]
  },
  {
   "cell_type": "code",
   "execution_count": 120,
   "id": "e0b3fdd4",
   "metadata": {},
   "outputs": [],
   "source": [
    "# ta[\"X\"].apply(text_process)"
   ]
  },
  {
   "cell_type": "code",
   "execution_count": 121,
   "id": "2affb43d",
   "metadata": {},
   "outputs": [],
   "source": [
    "from sklearn.feature_extraction.text import CountVectorizer"
   ]
  },
  {
   "cell_type": "code",
   "execution_count": 122,
   "id": "6226f0d2",
   "metadata": {},
   "outputs": [],
   "source": [
    "bow_transformer = CountVectorizer(analyzer = text_process).fit(ta[\"X\"])"
   ]
  },
  {
   "cell_type": "code",
   "execution_count": 123,
   "id": "e37ad5ca",
   "metadata": {},
   "outputs": [
    {
     "data": {
      "text/plain": [
       "{'nice': 49206,\n",
       " 'hotel': 36909,\n",
       " 'expensive': 28378,\n",
       " 'parking': 53208,\n",
       " 'got': 33582,\n",
       " 'good': 33347,\n",
       " 'deal': 21915,\n",
       " 'stay': 68556,\n",
       " 'anniversary': 6999,\n",
       " 'arrived': 8200,\n",
       " 'late': 42141,\n",
       " 'evening': 27588,\n",
       " 'took': 73466,\n",
       " 'advice': 5264,\n",
       " 'previous': 56545,\n",
       " 'reviews': 61027,\n",
       " 'valet': 76980,\n",
       " 'check': 16606,\n",
       " 'quick': 57945,\n",
       " 'easy': 25627,\n",
       " 'little': 43220,\n",
       " 'disappointed': 23592,\n",
       " 'nonexistent': 49873,\n",
       " 'view': 77537,\n",
       " 'room': 61740,\n",
       " 'clean': 17592,\n",
       " 'size': 65815,\n",
       " 'bed': 11090,\n",
       " 'comfortable': 18553,\n",
       " 'woke': 80136,\n",
       " 'stiff': 68860,\n",
       " 'neck': 48790,\n",
       " 'high': 36036,\n",
       " 'pillows': 54643,\n",
       " 'soundproof': 67119,\n",
       " 'like': 42920,\n",
       " 'heard': 35439,\n",
       " 'music': 48313,\n",
       " 'night': 49383,\n",
       " 'morning': 47723,\n",
       " 'loud': 43892,\n",
       " 'bangs': 9939,\n",
       " 'doors': 24555,\n",
       " 'opening': 51490,\n",
       " 'closing': 17921,\n",
       " 'hear': 35436,\n",
       " 'people': 53896,\n",
       " 'talking': 70917,\n",
       " 'hallway': 34815,\n",
       " 'maybe': 45647,\n",
       " 'noisy': 49763,\n",
       " 'neighbors': 48969,\n",
       " 'aveda': 9092,\n",
       " 'bath': 10462,\n",
       " 'products': 57041,\n",
       " 'goldfish': 33298,\n",
       " 'touch': 73692,\n",
       " 'taken': 70875,\n",
       " 'advantage': 5208,\n",
       " 'staying': 68615,\n",
       " 'longer': 43710,\n",
       " 'location': 43468,\n",
       " 'great': 33863,\n",
       " 'walking': 78149,\n",
       " 'distance': 24024,\n",
       " 'shopping': 64918,\n",
       " 'overall': 52302,\n",
       " 'experience': 28438,\n",
       " 'pay': 53616,\n",
       " '40': 2678,\n",
       " 'ok': 50978,\n",
       " 'nothing': 50158,\n",
       " 'special': 67421,\n",
       " 'charge': 16407,\n",
       " 'diamond': 23091,\n",
       " 'member': 46010,\n",
       " 'hilton': 36190,\n",
       " 'decided': 22063,\n",
       " 'chain': 16163,\n",
       " 'shot': 65035,\n",
       " '20th': 1592,\n",
       " 'seattle': 63659,\n",
       " 'start': 68396,\n",
       " 'booked': 12751,\n",
       " 'suite': 69793,\n",
       " 'paid': 52769,\n",
       " 'extra': 28676,\n",
       " 'website': 78862,\n",
       " 'description': 22719,\n",
       " 'bedroom': 11166,\n",
       " 'bathroom': 10497,\n",
       " 'standard': 68222,\n",
       " 'printed': 56761,\n",
       " 'reservation': 60210,\n",
       " 'desk': 22793,\n",
       " 'showed': 65077,\n",
       " 'said': 62608,\n",
       " 'things': 72300,\n",
       " 'tv': 75134,\n",
       " 'couch': 20311,\n",
       " 'ect': 25778,\n",
       " 'clerk': 17777,\n",
       " 'told': 73351,\n",
       " 'oh': 50948,\n",
       " 'mixed': 47141,\n",
       " 'suites': 69812,\n",
       " 'kimpton': 41374,\n",
       " 'sorry': 67062,\n",
       " 'free': 31415,\n",
       " 'breakfast': 13311,\n",
       " 'kidding': 41293,\n",
       " 'embassy': 26322,\n",
       " 'suits': 69828,\n",
       " 'sitting': 65768,\n",
       " 'unlike': 76059,\n",
       " 'calls': 14789,\n",
       " '5': 3023,\n",
       " 'day': 21679,\n",
       " 'offer': 50795,\n",
       " 'correct': 20187,\n",
       " 'false': 29030,\n",
       " 'advertising': 5254,\n",
       " 'send': 64020,\n",
       " 'preferred': 56270,\n",
       " 'guest': 34349,\n",
       " 'email': 26278,\n",
       " 'asking': 8405,\n",
       " 'failure': 28956,\n",
       " 'provide': 57364,\n",
       " 'advertised': 5248,\n",
       " 'furnished': 32191,\n",
       " 'hard': 35108,\n",
       " 'copy': 20092,\n",
       " 'printout': 56769,\n",
       " 'manager': 44900,\n",
       " 'duty': 25411,\n",
       " 'reply': 60010,\n",
       " 'solution': 66828,\n",
       " 'trip': 74597,\n",
       " 'survey': 70383,\n",
       " 'follow': 30716,\n",
       " 'mail': 44647,\n",
       " 'guess': 34341,\n",
       " 'tell': 71416,\n",
       " 'concerned': 19168,\n",
       " 'guestthe': 34401,\n",
       " 'staff': 68004,\n",
       " 'ranged': 58384,\n",
       " 'indifferent': 38678,\n",
       " 'helpful': 35651,\n",
       " 'asked': 8394,\n",
       " 'spots': 67761,\n",
       " 'neighborhood': 48957,\n",
       " 'hood': 36703,\n",
       " 'hotels': 37118,\n",
       " 'gee': 32658,\n",
       " 'best': 11729,\n",
       " '12': 499,\n",
       " 'block': 12383,\n",
       " 'away': 9212,\n",
       " 'convenient': 19858,\n",
       " 'know': 41556,\n",
       " 'exist': 28228,\n",
       " '11': 361,\n",
       " 'pm': 55338,\n",
       " 'inside': 39103,\n",
       " 'run': 62371,\n",
       " 'bellman': 11501,\n",
       " 'busy': 14371,\n",
       " 'chating': 16523,\n",
       " 'cell': 15915,\n",
       " 'phone': 54407,\n",
       " 'help': 35626,\n",
       " 'bagsprior': 9672,\n",
       " 'arrival': 8177,\n",
       " 'emailed': 26280,\n",
       " 'inform': 38846,\n",
       " 'half': 34751,\n",
       " 'really': 58693,\n",
       " 'picky': 54529,\n",
       " 'wanted': 78308,\n",
       " 'make': 44749,\n",
       " 'sure': 70253,\n",
       " 'saying': 63144,\n",
       " 'deliver': 22456,\n",
       " 'bottle': 13001,\n",
       " 'champagne': 16248,\n",
       " 'chocolate': 16989,\n",
       " 'covered': 20551,\n",
       " 'strawberries': 69174,\n",
       " 'celebrate': 15896,\n",
       " 'needed': 48809,\n",
       " 'foam': 30647,\n",
       " 'alley': 6148,\n",
       " 'rise': 61349,\n",
       " 'building': 14015,\n",
       " 'better': 11800,\n",
       " 'housekeeping': 37381,\n",
       " 'cleaner': 17628,\n",
       " 'property': 57243,\n",
       " 'impressed': 38275,\n",
       " 'left': 42472,\n",
       " 'short': 64991,\n",
       " 'trips': 74682,\n",
       " '2': 1375,\n",
       " 'hours': 37323,\n",
       " 'beds': 11179,\n",
       " 'comfortablenot': 18608,\n",
       " 'acheat': 4766,\n",
       " 'control': 19815,\n",
       " '4': 2677,\n",
       " 'x': 80723,\n",
       " 'inch': 38421,\n",
       " 'screen': 63447,\n",
       " 'bring': 13602,\n",
       " 'green': 34000,\n",
       " 'shine': 64783,\n",
       " 'directly': 23510,\n",
       " 'eyes': 28773,\n",
       " 'light': 42862,\n",
       " 'sensitive': 64055,\n",
       " 'tape': 70999,\n",
       " 'controlsthis': 19828,\n",
       " 'business': 14270,\n",
       " 'super': 70056,\n",
       " 'rates': 58480,\n",
       " 'rooms': 61906,\n",
       " 'monaco': 47402,\n",
       " 'nt': 50337,\n",
       " 'levelpositives': 42710,\n",
       " 'large': 42064,\n",
       " 'mediterranean': 45895,\n",
       " 'pillowsattentive': 54644,\n",
       " 'staffnegatives': 68082,\n",
       " 'ac': 4482,\n",
       " 'unit': 76017,\n",
       " 'malfunctioned': 44809,\n",
       " 'disorganized': 23904,\n",
       " 'missed': 47063,\n",
       " '3': 2239,\n",
       " 'separate': 64083,\n",
       " 'wakeup': 78090,\n",
       " 'concierge': 19206,\n",
       " 'guidance': 34409,\n",
       " 'requeststv': 60129,\n",
       " 'use': 76660,\n",
       " 'ipod': 39616,\n",
       " 'sound': 67111,\n",
       " 'dock': 24211,\n",
       " 'non': 49797,\n",
       " 'functioning': 32096,\n",
       " 'book': 12745,\n",
       " 'weekend': 78948,\n",
       " '1st': 1356,\n",
       " 'choice': 17007,\n",
       " 'rest': 60521,\n",
       " 'party': 53366,\n",
       " 'filled': 29804,\n",
       " 'comparison': 18864,\n",
       " 'w': 77941,\n",
       " 'spent': 67570,\n",
       " '45': 2861,\n",
       " 'larger': 42073,\n",
       " 'square': 67881,\n",
       " 'footage': 30914,\n",
       " 'soaking': 66641,\n",
       " 'tub': 74927,\n",
       " 'whirlpool': 79629,\n",
       " 'jets': 40539,\n",
       " 'showerbefore': 65088,\n",
       " 'arrange': 8149,\n",
       " 'car': 15165,\n",
       " 'service': 64206,\n",
       " 'price': 56563,\n",
       " '53': 3150,\n",
       " 'tip': 73037,\n",
       " 'reasonable': 58737,\n",
       " 'driver': 25119,\n",
       " 'waiting': 78055,\n",
       " 'arrivalcheckin': 8183,\n",
       " 'downside': 24806,\n",
       " 'picked': 54503,\n",
       " 'person': 54173,\n",
       " 'jacuzi': 40251,\n",
       " 'accessories': 4565,\n",
       " 'salts': 62727,\n",
       " 'bubble': 13819,\n",
       " '121a': 556,\n",
       " 'checked': 16608,\n",
       " 'voucher': 77904,\n",
       " 'gesture': 32849,\n",
       " 'fish': 30067,\n",
       " 'impression': 38295,\n",
       " 'huge': 37518,\n",
       " 'open': 51468,\n",
       " 'space': 67209,\n",
       " 'felt': 29605,\n",
       " 'big': 11976,\n",
       " 'far': 29223,\n",
       " 'chore': 17094,\n",
       " 'change': 16304,\n",
       " 'channel': 16337,\n",
       " 'broken': 13676,\n",
       " 'disappointingin': 23636,\n",
       " 'way': 78735,\n",
       " 'thermostat': 72204,\n",
       " '65f': 3482,\n",
       " '74': 3701,\n",
       " 'degrees': 22330,\n",
       " 'warm': 78369,\n",
       " 'try': 74875,\n",
       " 'cover': 20549,\n",
       " 'face': 28828,\n",
       " 'bright': 13572,\n",
       " 'blue': 12464,\n",
       " 'kept': 41198,\n",
       " 'drop': 25151,\n",
       " 'called': 14769,\n",
       " 'maintainence': 44690,\n",
       " 'came': 14829,\n",
       " 'look': 43754,\n",
       " 'play': 55043,\n",
       " 'settings': 64409,\n",
       " 'happy': 35046,\n",
       " 'digital': 23329,\n",
       " 'box': 13107,\n",
       " 'wo': 80127,\n",
       " 'work': 80293,\n",
       " '10am': 291,\n",
       " 'happen': 35010,\n",
       " 'later': 42159,\n",
       " '6pm': 3561,\n",
       " 'nap': 48536,\n",
       " 'forgot': 31063,\n",
       " 'yep': 80910,\n",
       " 'forgottenthe': 31069,\n",
       " 'facilities': 28867,\n",
       " 'surprised': 70325,\n",
       " 'sold': 66797,\n",
       " 'amenities': 6597,\n",
       " 'relax': 59601,\n",
       " 'water': 78589,\n",
       " 'going': 33276,\n",
       " 'unique': 76006,\n",
       " 'wonderful': 80166,\n",
       " 'time': 72840,\n",
       " 'excellent': 27955,\n",
       " 'stroll': 69363,\n",
       " 'main': 44661,\n",
       " 'downtown': 24828,\n",
       " 'area': 7794,\n",
       " 'pet': 54293,\n",
       " 'friendly': 31658,\n",
       " 'signs': 65487,\n",
       " 'animal': 6957,\n",
       " 'hair': 34696,\n",
       " 'smells': 66326,\n",
       " 'sleeping': 66043,\n",
       " 'striped': 69339,\n",
       " 'curtains': 21244,\n",
       " 'pulled': 57522,\n",
       " 'closed': 17883,\n",
       " 'cosy': 20292,\n",
       " 'named': 48496,\n",
       " 'brandi': 13199,\n",
       " 'enjoyed': 26685,\n",
       " 'partake': 53285,\n",
       " 'wine': 79912,\n",
       " 'coffeetea': 18269,\n",
       " 'lobby': 43343,\n",
       " 'thought': 72519,\n",
       " 'feature': 29472,\n",
       " 'wireless': 79989,\n",
       " 'internet': 39361,\n",
       " 'worked': 80309,\n",
       " 'laptops': 42049,\n",
       " 'decor': 22112,\n",
       " 'lovely': 44004,\n",
       " 'eclectic': 25742,\n",
       " 'mix': 47140,\n",
       " 'pattens': 53576,\n",
       " 'color': 18454,\n",
       " 'palatte': 52865,\n",
       " 'print': 56760,\n",
       " 'bathrobes': 10492,\n",
       " 'feel': 29543,\n",
       " 'rock': 61555,\n",
       " 'stars': 68366,\n",
       " 'sterile': 68809,\n",
       " 'personality': 54185,\n",
       " 'went': 79332,\n",
       " 'seahawk': 63561,\n",
       " 'game': 32384,\n",
       " 'awesome': 9292,\n",
       " 'downfall': 24768,\n",
       " 'complain': 18945,\n",
       " 'package': 52690,\n",
       " 'taxi': 71173,\n",
       " 'problem': 56883,\n",
       " 'want': 78303,\n",
       " 'accept': 4525,\n",
       " 'barely': 10121,\n",
       " 'spoke': 67682,\n",
       " 'english': 26592,\n",
       " 'funny': 32150,\n",
       " 'thing': 72279,\n",
       " 'speak': 67395,\n",
       " 'arabic': 7735,\n",
       " 'started': 68399,\n",
       " 'making': 44779,\n",
       " 'comments': 18731,\n",
       " 'girlfriend': 33027,\n",
       " 'buddy': 13868,\n",
       " 'second': 63714,\n",
       " 'realize': 58685,\n",
       " 'fact': 28915,\n",
       " 'language': 41996,\n",
       " 'priceless': 56611,\n",
       " 'ass': 8444,\n",
       " 'city': 17332,\n",
       " 'head': 35373,\n",
       " 'doorman': 24539,\n",
       " 'issue': 39796,\n",
       " 'cab': 14549,\n",
       " 'company': 18842,\n",
       " 'promply': 57191,\n",
       " 'answer': 7086,\n",
       " 'apologized': 7439,\n",
       " 'offered': 50799,\n",
       " 'bucks': 13851,\n",
       " 'miles': 46604,\n",
       " 'stadium': 67993,\n",
       " 'plan': 54924,\n",
       " 'return': 60898,\n",
       " 'humpin': 37607,\n",
       " 'walk': 78113,\n",
       " 'mind': 46682,\n",
       " 'right': 61252,\n",
       " 'christmas': 17135,\n",
       " 'lights': 42897,\n",
       " 'homeless': 36572,\n",
       " 'stowed': 69107,\n",
       " 'entrances': 26923,\n",
       " 'leave': 42418,\n",
       " 'police': 55483,\n",
       " 'presence': 56398,\n",
       " 'greatest': 33898,\n",
       " 'activities': 4873,\n",
       " '7': 3586,\n",
       " 'blocks': 12400,\n",
       " 'pike': 54619,\n",
       " 'street': 69207,\n",
       " 'waterfront': 78624,\n",
       " 'coffee': 18221,\n",
       " 'shops': 64953,\n",
       " 'mantained': 45063,\n",
       " 'foyer': 31251,\n",
       " 'tasting': 71107,\n",
       " 'available': 9029,\n",
       " 'dog': 24264,\n",
       " 'taking': 70894,\n",
       " 'st': 67974,\n",
       " 'bernard': 11696,\n",
       " 'family': 29083,\n",
       " 'safes': 62563,\n",
       " 'located': 43449,\n",
       " 'jetted': 40545,\n",
       " 'house': 37358,\n",
       " 'keeping': 41152,\n",
       " 'walked': 78136,\n",
       " 'getting': 32890,\n",
       " 'dressed': 24973,\n",
       " 'knock': 41547,\n",
       " 'turn': 75066,\n",
       " 'screamed': 63438,\n",
       " 'screams': 63442,\n",
       " 'hit': 36300,\n",
       " 'floor': 30430,\n",
       " 'laughing': 42219,\n",
       " 'spanish': 67305,\n",
       " 'place': 54811,\n",
       " 'recommend': 59028,\n",
       " 'online': 51352,\n",
       " 'deals': 21944,\n",
       " 'besite': 11723,\n",
       " 'contains': 19699,\n",
       " 'vouchers': 77906,\n",
       " 'travel': 74322,\n",
       " 'websites': 78877,\n",
       " 'love': 43987,\n",
       " 'husband': 37668,\n",
       " 'stayed': 68584,\n",
       " 'crazy': 20700,\n",
       " 'attending': 8723,\n",
       " 'memorial': 46046,\n",
       " 'friend': 31641,\n",
       " 'celebrating': 15899,\n",
       " '12th': 666,\n",
       " 'wedding': 78890,\n",
       " 'talk': 70909,\n",
       " 'emotions': 26388,\n",
       " 'monte': 47564,\n",
       " 'carlos': 15334,\n",
       " 'loaned': 43329,\n",
       " 'beautiful': 10998,\n",
       " 'fantanned': 29163,\n",
       " 'joliet': 40712,\n",
       " 'visited': 77718,\n",
       " 'dogs': 24279,\n",
       " 'human': 37550,\n",
       " 'companions': 18838,\n",
       " 'decorated': 22116,\n",
       " 'nicely': 49260,\n",
       " 'used': 76667,\n",
       " 'loccitane': 43568,\n",
       " 'welcome': 79065,\n",
       " 'sight': 65405,\n",
       " 'quiet': 57989,\n",
       " 'peaceful': 53683,\n",
       " 'access': 4544,\n",
       " 'server': 64196,\n",
       " 'leaving': 42438,\n",
       " 'problems': 56934,\n",
       " 'printing': 56766,\n",
       " 'boarding': 12524,\n",
       " 'passes': 53426,\n",
       " 'afternoon': 5441,\n",
       " 'reception': 58898,\n",
       " 'serves': 64203,\n",
       " 'oenophilesatisfying': 50760,\n",
       " 'australia': 8953,\n",
       " 'scrumptious': 63487,\n",
       " 'cookies': 19989,\n",
       " 'restaurant': 60550,\n",
       " 'renovation': 59871,\n",
       " 'finally': 29855,\n",
       " 'ate': 8561,\n",
       " 'food': 30753,\n",
       " 'drinks': 25052,\n",
       " 'word': 80276,\n",
       " 'caution': 15774,\n",
       " 'sit': 65710,\n",
       " 'booths': 12849,\n",
       " 'fit': 30096,\n",
       " '56': 3198,\n",
       " '125': 601,\n",
       " 'lbs': 42332,\n",
       " '59': 3226,\n",
       " '175': 1081,\n",
       " 'table': 70734,\n",
       " 'smackagainst': 66237,\n",
       " 'stomach': 68967,\n",
       " 'couple': 20428,\n",
       " 'inches': 38424,\n",
       " 'mighty': 46552,\n",
       " 'uncomfortable': 75621,\n",
       " 'patron': 53564,\n",
       " 'pregnant': 56283,\n",
       " 'bad': 9572,\n",
       " 'design': 22739,\n",
       " 'opinion': 51556,\n",
       " 'funky': 32131,\n",
       " 'welcoming': 79091,\n",
       " 'metal': 46224,\n",
       " 'wood': 80241,\n",
       " 'handblown': 34893,\n",
       " 'glass': 33103,\n",
       " 'fixtures': 30165,\n",
       " 'expect': 28268,\n",
       " 'capital': 15109,\n",
       " 'art': 8261,\n",
       " 'industry': 38738,\n",
       " 'definitely': 22275,\n",
       " 'reason': 58734,\n",
       " 'cozy': 20587,\n",
       " 'rainy': 58281,\n",
       " 'nights': 49507,\n",
       " 'early': 25529,\n",
       " 'january': 40348,\n",
       " '2008': 1465,\n",
       " 'chance': 16282,\n",
       " 'come': 18513,\n",
       " 'ridewe': 61212,\n",
       " 'carlo': 15333,\n",
       " 'proved': 57355,\n",
       " 'longish': 43734,\n",
       " '905': 4068,\n",
       " 'noise': 49716,\n",
       " 'interesting': 39305,\n",
       " 'dank': 21522,\n",
       " 'midsection': 46517,\n",
       " 'office': 50848,\n",
       " 'plenty': 55224,\n",
       " 'spread': 67810,\n",
       " 'attractive': 8832,\n",
       " 'squeaky': 67924,\n",
       " 'small': 66243,\n",
       " 'generous': 32737,\n",
       " 'proportions': 57276,\n",
       " 'areas': 7863,\n",
       " 'lots': 43874,\n",
       " 'seating': 63642,\n",
       " 'options': 51657,\n",
       " 'lighting': 42886,\n",
       " 'storage': 69040,\n",
       " 'clothing': 17946,\n",
       " 'luggage': 44167,\n",
       " 'efficient': 25890,\n",
       " 'job': 40622,\n",
       " 'pleasant': 55116,\n",
       " 'requests': 60119,\n",
       " 'responded': 60485,\n",
       " 'quicklythe': 57971,\n",
       " 'quite': 58076,\n",
       " 'market': 45285,\n",
       " 'museum': 48285,\n",
       " 'notch': 50116,\n",
       " 'dining': 23401,\n",
       " 'optionsa': 51660,\n",
       " 'positive': 55886,\n",
       " 'quality': 57760,\n",
       " 'chocked': 16981,\n",
       " 'home': 36536,\n",
       " 'experienced': 28451,\n",
       " 'exceptional': 28043,\n",
       " 'door': 24507,\n",
       " 'men': 46059,\n",
       " 'maid': 44631,\n",
       " 'needs': 48852,\n",
       " 'failed': 28949,\n",
       " 'tuck': 74962,\n",
       " 'sheets': 64687,\n",
       " 'foot': 30913,\n",
       " 'instance': 39155,\n",
       " 'soiled': 66776,\n",
       " 'quickley': 57955,\n",
       " 'resolved': 60306,\n",
       " 'relates': 59586,\n",
       " 'employee': 26409,\n",
       " 'reflection': 59288,\n",
       " 'staffwe': 68123,\n",
       " 'received': 58865,\n",
       " 'regarding': 59403,\n",
       " 'resturants': 60793,\n",
       " 'hour': 37307,\n",
       " 'homegreat': 36566,\n",
       " 'close': 17878,\n",
       " '5th': 3304,\n",
       " 'theather': 71856,\n",
       " 'wellpikes': 79234,\n",
       " 'pioneer': 54722,\n",
       " 'mono': 47518,\n",
       " 'rail': 58221,\n",
       " 'cruise': 21014,\n",
       " 'uniquely': 76009,\n",
       " 'remodeled': 59786,\n",
       " 'pacific': 52687,\n",
       " 'bell': 11469,\n",
       " 'charm': 16475,\n",
       " 'sturdiness': 69502,\n",
       " 'everytime': 27785,\n",
       " 'coming': 18690,\n",
       " 'secure': 63757,\n",
       " 'single': 65628,\n",
       " 'travelers': 74337,\n",
       " 'fabulous': 28814,\n",
       " 'needlelittle': 48841,\n",
       " 'grocerydrug': 34137,\n",
       " 'store': 69048,\n",
       " 'today': 73214,\n",
       " 'bravo': 13245,\n",
       " '1': 124,\n",
       " 'double': 24667,\n",
       " 'separated': 64084,\n",
       " 'curtain': 21240,\n",
       " 'snoring': 66579,\n",
       " 'mom': 47372,\n",
       " 'slept': 66092,\n",
       " 'nearby': 48706,\n",
       " 'past': 53455,\n",
       " 'delight': 22434,\n",
       " 'professional': 57055,\n",
       " 'smart': 66288,\n",
       " 'particularly': 53333,\n",
       " 'liked': 42927,\n",
       " 'guests': 34360,\n",
       " 'loved': 43990,\n",
       " 'mild': 46582,\n",
       " 'negative': 48887,\n",
       " 'uphill': 76435,\n",
       " 'ppmarket': 56111,\n",
       " 'restaurants': 60599,\n",
       " 'poor': 55726,\n",
       " 'value': 77011,\n",
       " 'july': 40875,\n",
       " 'priced': 56582,\n",
       " '100': 126,\n",
       " '150': 847,\n",
       " 'takes': 70888,\n",
       " 'beating': 10956,\n",
       " 'quotient': 58105,\n",
       " 'simply': 65567,\n",
       " 'average': 9116,\n",
       " 'paying': 53631,\n",
       " '300': 2241,\n",
       " 'ca': 14546,\n",
       " 'terribly': 71632,\n",
       " 'wife': 79747,\n",
       " 'nicest': 49305,\n",
       " '200night': 1503,\n",
       " 'overpaying': 52487,\n",
       " 'shop': 64885,\n",
       " 'qualitywise': 57792,\n",
       " 'league': 42358,\n",
       " 'marriott': 45361,\n",
       " 'western': 79389,\n",
       " '2007': 1443,\n",
       " 'looked': 43759,\n",
       " 'comparable': 18851,\n",
       " 'westin': 79402,\n",
       " 'pointsmiles': 55437,\n",
       " 'gave': 32602,\n",
       " 'pleasantly': 55132,\n",
       " 'tasty': 71114,\n",
       " 'especially': 27182,\n",
       " 'say': 63133,\n",
       " 'relatively': 59596,\n",
       " 'exercise': 28185,\n",
       " 'treadmill': 74427,\n",
       " 'heck': 35537,\n",
       " 'east': 25611,\n",
       " 'coast': 18077,\n",
       " 'ran': 58371,\n",
       " 'days': 21775,\n",
       " 'whimsical': 79610,\n",
       " 'vibe': 77451,\n",
       " 'fun': 32076,\n",
       " 'young': 81091,\n",
       " 'casual': 15620,\n",
       " 'group': 34207,\n",
       " 'reserved': 60244,\n",
       " 'connecting': 19489,\n",
       " 'fuss': 32240,\n",
       " 'weekthe': 79015,\n",
       " 'decent': 22047,\n",
       " 'pretty': 56511,\n",
       " 'bathrooms': 10535,\n",
       " 'pocket': 55379,\n",
       " 'ideal': 37861,\n",
       " 'cheery': 16678,\n",
       " 'flat': 30235,\n",
       " 'panel': 52983,\n",
       " 'fine': 29886,\n",
       " 'walkable': 78120,\n",
       " 'attractions': 8810,\n",
       " 'new': 49093,\n",
       " 'central': 15993,\n",
       " 'library': 42765,\n",
       " 'sam': 62743,\n",
       " 'benaroya': 11568,\n",
       " 'concert': 19184,\n",
       " 'hall': 34793,\n",
       " 'steep': 68742,\n",
       " '29night': 2115,\n",
       " 'receptions': 58922,\n",
       " 'popular': 55766,\n",
       " 'rude': 62289,\n",
       " 'bellhop': 11490,\n",
       " 'difficult': 23296,\n",
       " 'waited': 78029,\n",
       " 'forever': 31023,\n",
       " 'heavy': 35532,\n",
       " 'bags': 9664,\n",
       " 'throught': 72643,\n",
       " 'worst': 80459,\n",
       " 'checking': 16619,\n",
       " 'tap': 70993,\n",
       " 'pick': 54501,\n",
       " '20': 1376,\n",
       " 'minutes': 46892,\n",
       " 'noticed': 50182,\n",
       " '1000': 127,\n",
       " 'dollar': 24309,\n",
       " 'hold': 36431,\n",
       " 'credit': 20760,\n",
       " 'card': 15211,\n",
       " 'phonecalls': 54411,\n",
       " 'faxes': 29429,\n",
       " 'week': 78930,\n",
       " 'warwck': 78434,\n",
       " '4th': 3003,\n",
       " 'lenora': 42602,\n",
       " 'okbut': 51006,\n",
       " 'al': 5933,\n",
       " 'faces': 28840,\n",
       " 'tiring': 73125,\n",
       " 'airport': 5829,\n",
       " 'touches': 73710,\n",
       " 'leopard': 42622,\n",
       " 'robe': 61526,\n",
       " 'complaint': 18968,\n",
       " 'wifi': 79764,\n",
       " 'complimentary': 19056,\n",
       " 'center': 15953,\n",
       " 'horrible': 36788,\n",
       " 'customer': 21286,\n",
       " 'february': 29501,\n",
       " '3rd': 2643,\n",
       " '2007my': 1453,\n",
       " 'appealing': 7473,\n",
       " 'included': 38465,\n",
       " 'checkout': 16637,\n",
       " 'gift': 32946,\n",
       " 'spa': 67206,\n",
       " 'earlier': 25521,\n",
       " 'man': 44871,\n",
       " 'stood': 68994,\n",
       " 'pull': 57520,\n",
       " 'didnçé': 23190,\n",
       " 'garment': 32501,\n",
       " 'bag': 9634,\n",
       " 'suitcase': 69783,\n",
       " 'key': 41233,\n",
       " 'number': 50369,\n",
       " 'says': 63149,\n",
       " 'park': 53188,\n",
       " 'working': 80329,\n",
       " 'gets': 32878,\n",
       " 'oil': 50966,\n",
       " 'lotion': 43864,\n",
       " 'blood': 12419,\n",
       " 'drops': 25166,\n",
       " 'disgusted': 23824,\n",
       " 'unbelievable': 75562,\n",
       " 'sent': 64066,\n",
       " 'somebody': 66856,\n",
       " 'swapped': 70473,\n",
       " 'apologizing': 7441,\n",
       " 'sunday': 69942,\n",
       " 'management': 44884,\n",
       " 'aggravated': 5624,\n",
       " 'apparently': 7463,\n",
       " 'kind': 41378,\n",
       " 'supervisor': 70172,\n",
       " 'wait': 78025,\n",
       " 'monday': 47412,\n",
       " 'adding': 4981,\n",
       " 'changed': 16310,\n",
       " 'fresh': 31549,\n",
       " 'tone': 73404,\n",
       " '3pm': 2641,\n",
       " '130': 678,\n",
       " 'maids': 44636,\n",
       " 'tried': 74558,\n",
       " 'remind': 59770,\n",
       " 'packed': 52707,\n",
       " 'downstairs': 24816,\n",
       " 'quickly': 57957,\n",
       " 'signed': 65469,\n",
       " 'paper': 53031,\n",
       " 'closer': 17900,\n",
       " 'unfortunately': 75906,\n",
       " 'charged': 16409,\n",
       " 'ask': 8389,\n",
       " 'charges': 16429,\n",
       " 'lady': 41854,\n",
       " 'answered': 7090,\n",
       " 'snapped': 66511,\n",
       " 'aware': 9206,\n",
       " 'life': 42815,\n",
       " 'treated': 74444,\n",
       " 'constantly': 19620,\n",
       " 'lucky': 44144,\n",
       " 'ones': 51289,\n",
       " 'anybody': 7216,\n",
       " 'anticipating': 7132,\n",
       " 'based': 10377,\n",
       " 'seen': 63817,\n",
       " 'tripadvisor': 74609,\n",
       " 'disppointment': 23950,\n",
       " 'envisioned': 26982,\n",
       " 'impressive': 38306,\n",
       " 'extremely': 28728,\n",
       " 'polite': 55508,\n",
       " 'bellmen': 11505,\n",
       " 'easily': 25597,\n",
       " 'overlooked': 52451,\n",
       " 'mirror': 46987,\n",
       " 'sagging': 62601,\n",
       " 'post': 55947,\n",
       " 'jiggly': 40577,\n",
       " 'entrance': 26914,\n",
       " 'handle': 34920,\n",
       " 'nearly': 48744,\n",
       " 'falling': 29024,\n",
       " 'flight': 30335,\n",
       " 'midweek': 46533,\n",
       " 'suggested': 69755,\n",
       " 'ride': 61193,\n",
       " 'cost': 20252,\n",
       " 'private': 56812,\n",
       " 'flatrate': 30244,\n",
       " 'case': 15534,\n",
       " 'knew': 41529,\n",
       " '30': 2240,\n",
       " '38': 2558,\n",
       " 'insisted': 39124,\n",
       " '65': 3463,\n",
       " 'explained': 28543,\n",
       " 'kick': 41277,\n",
       " 'referrals': 59259,\n",
       " 'andor': 6875,\n",
       " 'looking': 43766,\n",
       " 'interests': 39313,\n",
       " 'years': 80861,\n",
       " 'planned': 54948,\n",
       " 'year': 80838,\n",
       " 'dinner': 23418,\n",
       " 'holiday': 36455,\n",
       " 'response': 60491,\n",
       " 'luck': 44130,\n",
       " 'finding': 29874,\n",
       " 'thanks': 71747,\n",
       " 'centre': 16020,\n",
       " 'completely': 19016,\n",
       " 'semifuncitional': 63980,\n",
       " 'outsourced': 52222,\n",
       " 'ended': 26517,\n",
       " 'spending': 67565,\n",
       " '50': 3024,\n",
       " 'money': 47427,\n",
       " 'refund': 59354,\n",
       " '25': 1876,\n",
       " 'vacation': 76871,\n",
       " 'troubleshooting': 74789,\n",
       " 'toll': 73375,\n",
       " 'line': 43029,\n",
       " 'times': 72919,\n",
       " 'assistance': 8476,\n",
       " 'shrug': 65230,\n",
       " 'majority': 44740,\n",
       " 'attitude': 8785,\n",
       " 'care': 15243,\n",
       " 'dared': 21541,\n",
       " 'intrude': 39506,\n",
       " 'snotty': 66610,\n",
       " 'occasions': 50600,\n",
       " 'caught': 15755,\n",
       " 'girls': 33034,\n",
       " 'smirking': 66378,\n",
       " 'turned': 75075,\n",
       " 'frustrating': 31963,\n",
       " 'honesty': 36643,\n",
       " 'end': 26510,\n",
       " 'dash': 21597,\n",
       " 'greet': 34027,\n",
       " 'ignored': 37940,\n",
       " 'unless': 76056,\n",
       " 'approached': 7632,\n",
       " 'saw': 63116,\n",
       " 'smiling': 66366,\n",
       " 'fantastic': 29171,\n",
       " 'holds': 36442,\n",
       " 'standards': 68248,\n",
       " 'cities': 17315,\n",
       " 'attentive': 8751,\n",
       " 'prompt': 57192,\n",
       " 'loyalty': 44094,\n",
       " 'program': 57108,\n",
       " 'upgraded': 76410,\n",
       " '10th': 344,\n",
       " 'public': 57457,\n",
       " 'kittycorner': 41497,\n",
       " 'highly': 36088,\n",
       " 'tour': 73766,\n",
       " 'blown': 12457,\n",
       " 'spacious': 67241,\n",
       " 'flatscreen': 30246,\n",
       " 'television': 71409,\n",
       " 'dvdcd': 25424,\n",
       " 'player': 55054,\n",
       " 'means': 45785,\n",
       " 'adequate': 5028,\n",
       " 'outstanding': 52227,\n",
       " 'eliptical': 26165,\n",
       " 'cardio': 15221,\n",
       " 'machines': 44448,\n",
       " 'stationary': 68476,\n",
       " 'bikes': 12017,\n",
       " 'personal': 54180,\n",
       " 'viewing': 77559,\n",
       " 'screens': 63452,\n",
       " 'machine': 44443,\n",
       " 'dvd': 25422,\n",
       " 'particular': 53329,\n",
       " 'stylish': 69536,\n",
       " 'quirky': 58071,\n",
       " 'inviting': 39569,\n",
       " 'imagine': 38061,\n",
       " 'relaxing': 59618,\n",
       " ...}"
      ]
     },
     "execution_count": 123,
     "metadata": {},
     "output_type": "execute_result"
    }
   ],
   "source": [
    "bow_transformer.vocabulary_"
   ]
  },
  {
   "cell_type": "code",
   "execution_count": 124,
   "id": "c2ac82b2",
   "metadata": {},
   "outputs": [],
   "source": [
    "# Create a TDM"
   ]
  },
  {
   "cell_type": "code",
   "execution_count": 125,
   "id": "a50f6c9d",
   "metadata": {},
   "outputs": [],
   "source": [
    "tdm = bow_transformer.transform(ta.X)"
   ]
  },
  {
   "cell_type": "code",
   "execution_count": 126,
   "id": "1da84cf0",
   "metadata": {},
   "outputs": [
    {
     "data": {
      "text/plain": [
       "(20491, 81408)"
      ]
     },
     "execution_count": 126,
     "metadata": {},
     "output_type": "execute_result"
    }
   ],
   "source": [
    "tdm.shape"
   ]
  },
  {
   "cell_type": "code",
   "execution_count": 127,
   "id": "70c75274",
   "metadata": {},
   "outputs": [],
   "source": [
    "# tdm will act as our X  - using tdm we will build the model"
   ]
  },
  {
   "cell_type": "markdown",
   "id": "d3d10120",
   "metadata": {},
   "source": [
    "#### Sampling stage:--"
   ]
  },
  {
   "cell_type": "code",
   "execution_count": 128,
   "id": "8a1a20b4",
   "metadata": {},
   "outputs": [],
   "source": [
    "from sklearn.model_selection import train_test_split"
   ]
  },
  {
   "cell_type": "code",
   "execution_count": 129,
   "id": "2cc560d5",
   "metadata": {},
   "outputs": [],
   "source": [
    "train_X  , test_X , train_Y  , test_Y = train_test_split(tdm , ta.Y , test_size = .2)"
   ]
  },
  {
   "cell_type": "markdown",
   "id": "c3e27632",
   "metadata": {},
   "source": [
    "#### model building stage:--"
   ]
  },
  {
   "cell_type": "code",
   "execution_count": 130,
   "id": "2d5cc577",
   "metadata": {},
   "outputs": [],
   "source": [
    "# NAIVE BAYES"
   ]
  },
  {
   "cell_type": "code",
   "execution_count": 131,
   "id": "c8905461",
   "metadata": {},
   "outputs": [
    {
     "data": {
      "text/plain": [
       "MultinomialNB()"
      ]
     },
     "execution_count": 131,
     "metadata": {},
     "output_type": "execute_result"
    }
   ],
   "source": [
    "from sklearn.naive_bayes import MultinomialNB\n",
    "\n",
    "nb = MultinomialNB()\n",
    "nb.fit(train_X , train_Y)"
   ]
  },
  {
   "cell_type": "code",
   "execution_count": 132,
   "id": "53bff4b6",
   "metadata": {},
   "outputs": [],
   "source": [
    "pred = nb.predict(test_X)"
   ]
  },
  {
   "cell_type": "code",
   "execution_count": 133,
   "id": "7f07fc28",
   "metadata": {},
   "outputs": [],
   "source": [
    "from sklearn.metrics import confusion_matrix , classification_report"
   ]
  },
  {
   "cell_type": "code",
   "execution_count": 134,
   "id": "cd30b9ed",
   "metadata": {},
   "outputs": [
    {
     "data": {
      "text/plain": [
       "array([[ 749,  358],\n",
       "       [ 118, 2874]], dtype=int64)"
      ]
     },
     "execution_count": 134,
     "metadata": {},
     "output_type": "execute_result"
    }
   ],
   "source": [
    "tab = confusion_matrix(test_Y , pred)\n",
    "tab"
   ]
  },
  {
   "cell_type": "code",
   "execution_count": 136,
   "id": "86ede1ff",
   "metadata": {},
   "outputs": [
    {
     "data": {
      "text/html": [
       "<div>\n",
       "<style scoped>\n",
       "    .dataframe tbody tr th:only-of-type {\n",
       "        vertical-align: middle;\n",
       "    }\n",
       "\n",
       "    .dataframe tbody tr th {\n",
       "        vertical-align: top;\n",
       "    }\n",
       "\n",
       "    .dataframe thead th {\n",
       "        text-align: right;\n",
       "    }\n",
       "</style>\n",
       "<table border=\"1\" class=\"dataframe\">\n",
       "  <thead>\n",
       "    <tr style=\"text-align: right;\">\n",
       "      <th></th>\n",
       "      <th>1</th>\n",
       "      <th>2</th>\n",
       "    </tr>\n",
       "  </thead>\n",
       "  <tbody>\n",
       "    <tr>\n",
       "      <th>1</th>\n",
       "      <td>749</td>\n",
       "      <td>358</td>\n",
       "    </tr>\n",
       "    <tr>\n",
       "      <th>2</th>\n",
       "      <td>118</td>\n",
       "      <td>2874</td>\n",
       "    </tr>\n",
       "  </tbody>\n",
       "</table>\n",
       "</div>"
      ],
      "text/plain": [
       "     1     2\n",
       "1  749   358\n",
       "2  118  2874"
      ]
     },
     "execution_count": 136,
     "metadata": {},
     "output_type": "execute_result"
    }
   ],
   "source": [
    "tab_cf = pd.DataFrame(tab)\n",
    "tab_cf.columns = [1 ,2]\n",
    "tab_cf.index = [ 1 ,2]\n",
    "tab_cf"
   ]
  },
  {
   "cell_type": "code",
   "execution_count": 137,
   "id": "79580421",
   "metadata": {},
   "outputs": [
    {
     "name": "stdout",
     "output_type": "stream",
     "text": [
      "              precision    recall  f1-score   support\n",
      "\n",
      "           1       0.86      0.68      0.76      1107\n",
      "           2       0.89      0.96      0.92      2992\n",
      "\n",
      "    accuracy                           0.88      4099\n",
      "   macro avg       0.88      0.82      0.84      4099\n",
      "weighted avg       0.88      0.88      0.88      4099\n",
      "\n"
     ]
    }
   ],
   "source": [
    "print(classification_report(test_Y , pred))"
   ]
  },
  {
   "cell_type": "code",
   "execution_count": null,
   "id": "b27a14ee",
   "metadata": {},
   "outputs": [],
   "source": []
  },
  {
   "cell_type": "code",
   "execution_count": 94,
   "id": "eff332c3",
   "metadata": {},
   "outputs": [],
   "source": [
    "# DECISION TREE"
   ]
  },
  {
   "cell_type": "code",
   "execution_count": 138,
   "id": "60c996e0",
   "metadata": {},
   "outputs": [
    {
     "data": {
      "text/plain": [
       "DecisionTreeClassifier(class_weight='balanced')"
      ]
     },
     "execution_count": 138,
     "metadata": {},
     "output_type": "execute_result"
    }
   ],
   "source": [
    "from sklearn.tree import DecisionTreeClassifier\n",
    "dt = DecisionTreeClassifier(class_weight='balanced')\n",
    "dt.fit(train_X , train_Y)"
   ]
  },
  {
   "cell_type": "code",
   "execution_count": 139,
   "id": "76d115af",
   "metadata": {},
   "outputs": [],
   "source": [
    "pred_test_rf = dt.predict(test_X)"
   ]
  },
  {
   "cell_type": "code",
   "execution_count": 140,
   "id": "216b4534",
   "metadata": {},
   "outputs": [
    {
     "data": {
      "text/plain": [
       "array([[ 677,  430],\n",
       "       [ 497, 2495]], dtype=int64)"
      ]
     },
     "execution_count": 140,
     "metadata": {},
     "output_type": "execute_result"
    }
   ],
   "source": [
    "tab = confusion_matrix(test_Y , pred_test_rf)\n",
    "tab"
   ]
  },
  {
   "cell_type": "code",
   "execution_count": 141,
   "id": "c6ef9522",
   "metadata": {},
   "outputs": [
    {
     "data": {
      "text/html": [
       "<div>\n",
       "<style scoped>\n",
       "    .dataframe tbody tr th:only-of-type {\n",
       "        vertical-align: middle;\n",
       "    }\n",
       "\n",
       "    .dataframe tbody tr th {\n",
       "        vertical-align: top;\n",
       "    }\n",
       "\n",
       "    .dataframe thead th {\n",
       "        text-align: right;\n",
       "    }\n",
       "</style>\n",
       "<table border=\"1\" class=\"dataframe\">\n",
       "  <thead>\n",
       "    <tr style=\"text-align: right;\">\n",
       "      <th></th>\n",
       "      <th>1</th>\n",
       "      <th>2</th>\n",
       "    </tr>\n",
       "  </thead>\n",
       "  <tbody>\n",
       "    <tr>\n",
       "      <th>1</th>\n",
       "      <td>677</td>\n",
       "      <td>430</td>\n",
       "    </tr>\n",
       "    <tr>\n",
       "      <th>2</th>\n",
       "      <td>497</td>\n",
       "      <td>2495</td>\n",
       "    </tr>\n",
       "  </tbody>\n",
       "</table>\n",
       "</div>"
      ],
      "text/plain": [
       "     1     2\n",
       "1  677   430\n",
       "2  497  2495"
      ]
     },
     "execution_count": 141,
     "metadata": {},
     "output_type": "execute_result"
    }
   ],
   "source": [
    "tab_cf = pd.DataFrame(tab)\n",
    "tab_cf.columns = [1 ,2]\n",
    "tab_cf.index = [ 1 ,2]\n",
    "tab_cf"
   ]
  },
  {
   "cell_type": "code",
   "execution_count": 142,
   "id": "9e90a7e8",
   "metadata": {},
   "outputs": [
    {
     "name": "stdout",
     "output_type": "stream",
     "text": [
      "              precision    recall  f1-score   support\n",
      "\n",
      "           1       0.58      0.61      0.59      1107\n",
      "           2       0.85      0.83      0.84      2992\n",
      "\n",
      "    accuracy                           0.77      4099\n",
      "   macro avg       0.71      0.72      0.72      4099\n",
      "weighted avg       0.78      0.77      0.78      4099\n",
      "\n"
     ]
    }
   ],
   "source": [
    "print(classification_report(test_Y , pred_test_rf))"
   ]
  },
  {
   "cell_type": "code",
   "execution_count": null,
   "id": "3cd08d12",
   "metadata": {},
   "outputs": [],
   "source": []
  },
  {
   "cell_type": "code",
   "execution_count": 143,
   "id": "de717763",
   "metadata": {},
   "outputs": [],
   "source": [
    "# LOGISTIC Regression :--"
   ]
  },
  {
   "cell_type": "code",
   "execution_count": 144,
   "id": "896e4a92",
   "metadata": {},
   "outputs": [
    {
     "name": "stderr",
     "output_type": "stream",
     "text": [
      "C:\\Users\\HARSH\\anaconda3\\lib\\site-packages\\sklearn\\linear_model\\_logistic.py:814: ConvergenceWarning: lbfgs failed to converge (status=1):\n",
      "STOP: TOTAL NO. of ITERATIONS REACHED LIMIT.\n",
      "\n",
      "Increase the number of iterations (max_iter) or scale the data as shown in:\n",
      "    https://scikit-learn.org/stable/modules/preprocessing.html\n",
      "Please also refer to the documentation for alternative solver options:\n",
      "    https://scikit-learn.org/stable/modules/linear_model.html#logistic-regression\n",
      "  n_iter_i = _check_optimize_result(\n"
     ]
    },
    {
     "data": {
      "text/plain": [
       "LogisticRegression()"
      ]
     },
     "execution_count": 144,
     "metadata": {},
     "output_type": "execute_result"
    }
   ],
   "source": [
    "from sklearn.linear_model import LogisticRegression\n",
    "lr = LogisticRegression()\n",
    "lr.fit(train_X , train_Y);\n",
    "lr"
   ]
  },
  {
   "cell_type": "code",
   "execution_count": 145,
   "id": "7eede765",
   "metadata": {},
   "outputs": [
    {
     "data": {
      "text/plain": [
       "array([2, 2, 2, ..., 2, 1, 2], dtype=int64)"
      ]
     },
     "execution_count": 145,
     "metadata": {},
     "output_type": "execute_result"
    }
   ],
   "source": [
    "pred_test = lr.predict(test_X)\n",
    "pred_test"
   ]
  },
  {
   "cell_type": "code",
   "execution_count": 146,
   "id": "b798c254",
   "metadata": {},
   "outputs": [],
   "source": [
    "from sklearn.metrics import *"
   ]
  },
  {
   "cell_type": "code",
   "execution_count": 104,
   "id": "398ee40a",
   "metadata": {},
   "outputs": [
    {
     "data": {
      "text/plain": [
       "array([[ 355,   73,  196],\n",
       "       [ 101,   74,  268],\n",
       "       [ 218,  192, 2622]], dtype=int64)"
      ]
     },
     "execution_count": 104,
     "metadata": {},
     "output_type": "execute_result"
    }
   ],
   "source": [
    "tab = confusion_matrix(test_Y , pred_test_rf)\n",
    "tab"
   ]
  },
  {
   "cell_type": "code",
   "execution_count": 147,
   "id": "519ce109",
   "metadata": {},
   "outputs": [
    {
     "data": {
      "text/html": [
       "<div>\n",
       "<style scoped>\n",
       "    .dataframe tbody tr th:only-of-type {\n",
       "        vertical-align: middle;\n",
       "    }\n",
       "\n",
       "    .dataframe tbody tr th {\n",
       "        vertical-align: top;\n",
       "    }\n",
       "\n",
       "    .dataframe thead th {\n",
       "        text-align: right;\n",
       "    }\n",
       "</style>\n",
       "<table border=\"1\" class=\"dataframe\">\n",
       "  <thead>\n",
       "    <tr style=\"text-align: right;\">\n",
       "      <th></th>\n",
       "      <th>1</th>\n",
       "      <th>2</th>\n",
       "    </tr>\n",
       "  </thead>\n",
       "  <tbody>\n",
       "    <tr>\n",
       "      <th>1</th>\n",
       "      <td>677</td>\n",
       "      <td>430</td>\n",
       "    </tr>\n",
       "    <tr>\n",
       "      <th>2</th>\n",
       "      <td>497</td>\n",
       "      <td>2495</td>\n",
       "    </tr>\n",
       "  </tbody>\n",
       "</table>\n",
       "</div>"
      ],
      "text/plain": [
       "     1     2\n",
       "1  677   430\n",
       "2  497  2495"
      ]
     },
     "execution_count": 147,
     "metadata": {},
     "output_type": "execute_result"
    }
   ],
   "source": [
    "tab_cf = pd.DataFrame(tab)\n",
    "tab_cf.columns = [1 ,2]\n",
    "tab_cf.index = [ 1 ,2]\n",
    "tab_cf"
   ]
  },
  {
   "cell_type": "code",
   "execution_count": 148,
   "id": "19319ea8",
   "metadata": {},
   "outputs": [
    {
     "name": "stdout",
     "output_type": "stream",
     "text": [
      "              precision    recall  f1-score   support\n",
      "\n",
      "           1       0.58      0.61      0.59      1107\n",
      "           2       0.85      0.83      0.84      2992\n",
      "\n",
      "    accuracy                           0.77      4099\n",
      "   macro avg       0.71      0.72      0.72      4099\n",
      "weighted avg       0.78      0.77      0.78      4099\n",
      "\n"
     ]
    }
   ],
   "source": [
    "print(classification_report(test_Y , pred_test_rf))"
   ]
  },
  {
   "cell_type": "code",
   "execution_count": null,
   "id": "34d19980",
   "metadata": {},
   "outputs": [],
   "source": []
  },
  {
   "cell_type": "code",
   "execution_count": 107,
   "id": "aa737b8c",
   "metadata": {},
   "outputs": [],
   "source": [
    "# RANDOM FOREST"
   ]
  },
  {
   "cell_type": "code",
   "execution_count": 162,
   "id": "c94f2212",
   "metadata": {},
   "outputs": [
    {
     "data": {
      "text/plain": [
       "array([[ 828,  279],\n",
       "       [ 450, 2542]], dtype=int64)"
      ]
     },
     "execution_count": 162,
     "metadata": {},
     "output_type": "execute_result"
    }
   ],
   "source": [
    "from sklearn.ensemble import RandomForestClassifier\n",
    "rfc = RandomForestClassifier(n_estimators=50 , class_weight='balanced', criterion='gini' , max_depth=7,min_samples_split= 29)\n",
    "rfc.fit(train_X , train_Y)\n",
    "pred_rfc = rfc.predict(test_X)\n",
    "tab_rfc = confusion_matrix(test_Y , pred_rfc)\n",
    "tab_rfc"
   ]
  },
  {
   "cell_type": "code",
   "execution_count": 156,
   "id": "031809ab",
   "metadata": {},
   "outputs": [],
   "source": [
    "#from sklearn.model_selection import GridSearchCV"
   ]
  },
  {
   "cell_type": "code",
   "execution_count": 157,
   "id": "9934b77f",
   "metadata": {},
   "outputs": [],
   "source": [
    "# search_dict = {'criterion':['gini','entropy'] , \n",
    "#                'max_depth':range(5,10) , \n",
    "#                 'min_samples_split':range(25,30)}"
   ]
  },
  {
   "cell_type": "code",
   "execution_count": 158,
   "id": "6b3fd337",
   "metadata": {},
   "outputs": [],
   "source": [
    "# grid = GridSearchCV(dt , param_grid=search_dict)"
   ]
  },
  {
   "cell_type": "code",
   "execution_count": 160,
   "id": "96bec0f0",
   "metadata": {},
   "outputs": [
    {
     "data": {
      "text/plain": [
       "GridSearchCV(estimator=DecisionTreeClassifier(class_weight='balanced'),\n",
       "             param_grid={'criterion': ['gini', 'entropy'],\n",
       "                         'max_depth': range(5, 10),\n",
       "                         'min_samples_split': range(25, 30)})"
      ]
     },
     "execution_count": 160,
     "metadata": {},
     "output_type": "execute_result"
    }
   ],
   "source": [
    "# grid.fit(train_X , train_Y)"
   ]
  },
  {
   "cell_type": "code",
   "execution_count": 161,
   "id": "8d6def9b",
   "metadata": {},
   "outputs": [
    {
     "data": {
      "text/plain": [
       "{'criterion': 'gini', 'max_depth': 7, 'min_samples_split': 29}"
      ]
     },
     "execution_count": 161,
     "metadata": {},
     "output_type": "execute_result"
    }
   ],
   "source": [
    "# grid.best_params_ "
   ]
  },
  {
   "cell_type": "code",
   "execution_count": null,
   "id": "a91fb75f",
   "metadata": {},
   "outputs": [],
   "source": [
    "# now we use above hyperparameter values to build Decision Tree."
   ]
  },
  {
   "cell_type": "code",
   "execution_count": null,
   "id": "cd4d73be",
   "metadata": {},
   "outputs": [],
   "source": []
  },
  {
   "cell_type": "code",
   "execution_count": 151,
   "id": "2290cf1c",
   "metadata": {},
   "outputs": [
    {
     "data": {
      "text/html": [
       "<div>\n",
       "<style scoped>\n",
       "    .dataframe tbody tr th:only-of-type {\n",
       "        vertical-align: middle;\n",
       "    }\n",
       "\n",
       "    .dataframe tbody tr th {\n",
       "        vertical-align: top;\n",
       "    }\n",
       "\n",
       "    .dataframe thead th {\n",
       "        text-align: right;\n",
       "    }\n",
       "</style>\n",
       "<table border=\"1\" class=\"dataframe\">\n",
       "  <thead>\n",
       "    <tr style=\"text-align: right;\">\n",
       "      <th></th>\n",
       "      <th>1</th>\n",
       "      <th>2</th>\n",
       "    </tr>\n",
       "  </thead>\n",
       "  <tbody>\n",
       "    <tr>\n",
       "      <th>1</th>\n",
       "      <td>461</td>\n",
       "      <td>646</td>\n",
       "    </tr>\n",
       "    <tr>\n",
       "      <th>2</th>\n",
       "      <td>26</td>\n",
       "      <td>2966</td>\n",
       "    </tr>\n",
       "  </tbody>\n",
       "</table>\n",
       "</div>"
      ],
      "text/plain": [
       "     1     2\n",
       "1  461   646\n",
       "2   26  2966"
      ]
     },
     "execution_count": 151,
     "metadata": {},
     "output_type": "execute_result"
    }
   ],
   "source": [
    "tab_cf = pd.DataFrame(tab_rfc)\n",
    "tab_cf.columns = [1 ,2]\n",
    "tab_cf.index = [ 1 ,2]\n",
    "tab_cf"
   ]
  },
  {
   "cell_type": "code",
   "execution_count": 152,
   "id": "76711520",
   "metadata": {},
   "outputs": [
    {
     "name": "stdout",
     "output_type": "stream",
     "text": [
      "              precision    recall  f1-score   support\n",
      "\n",
      "           1       0.95      0.42      0.58      1107\n",
      "           2       0.82      0.99      0.90      2992\n",
      "\n",
      "    accuracy                           0.84      4099\n",
      "   macro avg       0.88      0.70      0.74      4099\n",
      "weighted avg       0.86      0.84      0.81      4099\n",
      "\n"
     ]
    }
   ],
   "source": [
    "print(classification_report(test_Y , pred_rfc))"
   ]
  },
  {
   "cell_type": "code",
   "execution_count": null,
   "id": "945ab71b",
   "metadata": {},
   "outputs": [],
   "source": []
  },
  {
   "cell_type": "code",
   "execution_count": 153,
   "id": "48db9ad8",
   "metadata": {},
   "outputs": [],
   "source": [
    "# SVM"
   ]
  },
  {
   "cell_type": "code",
   "execution_count": 154,
   "id": "a5674118",
   "metadata": {},
   "outputs": [
    {
     "data": {
      "text/plain": [
       "SVC()"
      ]
     },
     "execution_count": 154,
     "metadata": {},
     "output_type": "execute_result"
    }
   ],
   "source": [
    "from sklearn.svm import SVC\n",
    "svc_al = SVC()\n",
    "svc_al.fit(train_X , train_Y)"
   ]
  },
  {
   "cell_type": "code",
   "execution_count": 163,
   "id": "2e554fef",
   "metadata": {},
   "outputs": [],
   "source": [
    "pred_svc= svc_al.predict(test_X)"
   ]
  },
  {
   "cell_type": "code",
   "execution_count": 164,
   "id": "c9525634",
   "metadata": {},
   "outputs": [],
   "source": [
    "from sklearn.metrics import *"
   ]
  },
  {
   "cell_type": "code",
   "execution_count": 165,
   "id": "e099e4ed",
   "metadata": {},
   "outputs": [
    {
     "data": {
      "text/plain": [
       "array([[ 749,  358],\n",
       "       [ 118, 2874]], dtype=int64)"
      ]
     },
     "execution_count": 165,
     "metadata": {},
     "output_type": "execute_result"
    }
   ],
   "source": [
    "tab = confusion_matrix(test_Y , pred)\n",
    "tab"
   ]
  },
  {
   "cell_type": "code",
   "execution_count": 166,
   "id": "6705107c",
   "metadata": {},
   "outputs": [
    {
     "data": {
      "text/html": [
       "<div>\n",
       "<style scoped>\n",
       "    .dataframe tbody tr th:only-of-type {\n",
       "        vertical-align: middle;\n",
       "    }\n",
       "\n",
       "    .dataframe tbody tr th {\n",
       "        vertical-align: top;\n",
       "    }\n",
       "\n",
       "    .dataframe thead th {\n",
       "        text-align: right;\n",
       "    }\n",
       "</style>\n",
       "<table border=\"1\" class=\"dataframe\">\n",
       "  <thead>\n",
       "    <tr style=\"text-align: right;\">\n",
       "      <th></th>\n",
       "      <th>1</th>\n",
       "      <th>2</th>\n",
       "    </tr>\n",
       "  </thead>\n",
       "  <tbody>\n",
       "    <tr>\n",
       "      <th>1</th>\n",
       "      <td>749</td>\n",
       "      <td>358</td>\n",
       "    </tr>\n",
       "    <tr>\n",
       "      <th>2</th>\n",
       "      <td>118</td>\n",
       "      <td>2874</td>\n",
       "    </tr>\n",
       "  </tbody>\n",
       "</table>\n",
       "</div>"
      ],
      "text/plain": [
       "     1     2\n",
       "1  749   358\n",
       "2  118  2874"
      ]
     },
     "execution_count": 166,
     "metadata": {},
     "output_type": "execute_result"
    }
   ],
   "source": [
    "tab_cf = pd.DataFrame(tab)\n",
    "tab_cf.columns = [1 ,2]\n",
    "tab_cf.index = [ 1 ,2]\n",
    "tab_cf"
   ]
  },
  {
   "cell_type": "code",
   "execution_count": 167,
   "id": "986d7212",
   "metadata": {},
   "outputs": [
    {
     "name": "stdout",
     "output_type": "stream",
     "text": [
      "              precision    recall  f1-score   support\n",
      "\n",
      "           1       0.86      0.68      0.76      1107\n",
      "           2       0.89      0.96      0.92      2992\n",
      "\n",
      "    accuracy                           0.88      4099\n",
      "   macro avg       0.88      0.82      0.84      4099\n",
      "weighted avg       0.88      0.88      0.88      4099\n",
      "\n"
     ]
    }
   ],
   "source": [
    "print(classification_report(test_Y , pred))"
   ]
  },
  {
   "cell_type": "code",
   "execution_count": null,
   "id": "4cd0c38e",
   "metadata": {},
   "outputs": [],
   "source": []
  }
 ],
 "metadata": {
  "kernelspec": {
   "display_name": "Python 3 (ipykernel)",
   "language": "python",
   "name": "python3"
  },
  "language_info": {
   "codemirror_mode": {
    "name": "ipython",
    "version": 3
   },
   "file_extension": ".py",
   "mimetype": "text/x-python",
   "name": "python",
   "nbconvert_exporter": "python",
   "pygments_lexer": "ipython3",
   "version": "3.9.12"
  }
 },
 "nbformat": 4,
 "nbformat_minor": 5
}
